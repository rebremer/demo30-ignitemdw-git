{
  "metadata": {
    "language_info": {
      "name": "python"
    },
    "sessionKeepAliveTimeout": 30,
    "kernelspec": {
      "name": "synapse_pyspark",
      "display_name": "Synapse PySpark"
    }
  },
  "nbformat": 4,
  "nbformat_minor": 2,
  "cells": [
    {
      "cell_type": "code",
      "execution_count": 5,
      "outputs": [
        {
          "output_type": "display_data",
          "data": {
            "application/vnd.livy.statement-meta+json": {
              "spark_pool": "testspark",
              "session_id": 56,
              "statement_id": 7,
              "state": "finished",
              "livy_statement_state": "available",
              "queued_time": "2020-11-10T10:45:51.639652Z",
              "execution_start_time": "2020-11-10T10:45:51.6621611Z",
              "execution_finish_time": "2020-11-10T10:45:53.6919473Z"
            },
            "text/plain": "StatementMeta(testspark, 56, 7, Finished, Available)"
          },
          "metadata": {}
        },
        {
          "execution_count": 5,
          "output_type": "execute_result",
          "data": {
            "text/plain": ""
          },
          "metadata": {}
        }
      ],
      "metadata": {},
      "source": [
        "import os\n",
        "import urllib\n",
        "import pprint\n",
        "import numpy as np\n",
        "import time\n",
        "\n",
        "from pyspark.ml import Pipeline, PipelineModel\n",
        "from pyspark.ml.feature import OneHotEncoder, StringIndexer, VectorAssembler\n",
        "from pyspark.ml.classification import LogisticRegression, DecisionTreeClassifier\n",
        "from pyspark.ml.evaluation import BinaryClassificationEvaluator\n",
        "from pyspark.ml.tuning import CrossValidator, ParamGridBuilder"
      ]
    },
    {
      "cell_type": "code",
      "execution_count": 6,
      "outputs": [
        {
          "output_type": "display_data",
          "data": {
            "application/vnd.livy.statement-meta+json": {
              "spark_pool": "testspark",
              "session_id": 56,
              "statement_id": 8,
              "state": "finished",
              "livy_statement_state": "available",
              "queued_time": "2020-11-10T10:45:51.8758072Z",
              "execution_start_time": "2020-11-10T10:45:53.714975Z",
              "execution_finish_time": "2020-11-10T10:45:55.7403787Z"
            },
            "text/plain": "StatementMeta(testspark, 56, 8, Finished, Available)"
          },
          "metadata": {}
        },
        {
          "execution_count": 6,
          "output_type": "execute_result",
          "data": {
            "text/plain": ""
          },
          "metadata": {}
        }
      ],
      "metadata": {},
      "source": [
        "#%%spark\n",
        "# SQLDW inside Synapse analytics\n",
        "#val df = spark.read.sqlanalytics(\"sqldb.dbo.AdultCensusIncome4\") \n",
        "#df.createOrReplaceTempView(\"AdultCensusIncome4\")"
      ]
    },
    {
      "cell_type": "code",
      "execution_count": 7,
      "outputs": [
        {
          "output_type": "display_data",
          "data": {
            "application/vnd.livy.statement-meta+json": {
              "spark_pool": "testspark",
              "session_id": 56,
              "statement_id": 9,
              "state": "finished",
              "livy_statement_state": "available",
              "queued_time": "2020-11-10T10:45:52.0075937Z",
              "execution_start_time": "2020-11-10T10:45:55.7665589Z",
              "execution_finish_time": "2020-11-10T10:45:57.8007497Z"
            },
            "text/plain": "StatementMeta(testspark, 56, 9, Finished, Available)"
          },
          "metadata": {}
        },
        {
          "execution_count": 7,
          "output_type": "execute_result",
          "data": {
            "text/plain": "import com.microsoft.spark.sqlanalytics.utils.Constants\nimport org.apache.spark.sql.SqlAnalyticsConnector._\ndf: org.apache.spark.sql.DataFrame = [age: int, workclass: string ... 13 more fields]\n"
          },
          "metadata": {}
        }
      ],
      "metadata": {
        "microsoft": {
          "language": "scala"
        }
      },
      "source": [
        "%%spark\n",
        "// SQLDW inside Synapse analytics. In this example, SQLDW table data origine from csv in this folder: AdultCensusIncome_withheader.csv",
        "import com.microsoft.spark.sqlanalytics.utils.Constants\n",
        "import org.apache.spark.sql.SqlAnalyticsConnector._\n",
        "\n",
        "val df = spark.read.\n",
        "option(Constants.SERVER, \"<<your external SQLDW logical server>>.database.windows.net\").\n",
        "sqlanalytics(\"<<your database>>.dbo.AdultCensusIncome4\")\n",
        "df.createOrReplaceTempView(\"AdultCensusIncome4\")"
      ]
    },
    {
      "cell_type": "code",
      "execution_count": 8,
      "outputs": [
        {
          "output_type": "display_data",
          "data": {
            "application/vnd.livy.statement-meta+json": {
              "spark_pool": "testspark",
              "session_id": 56,
              "statement_id": 10,
              "state": "finished",
              "livy_statement_state": "available",
              "queued_time": "2020-11-10T10:45:52.1202254Z",
              "execution_start_time": "2020-11-10T10:45:57.8230773Z",
              "execution_finish_time": "2020-11-10T10:45:59.8447424Z"
            },
            "text/plain": "StatementMeta(testspark, 56, 10, Finished, Available)"
          },
          "metadata": {}
        },
        {
          "execution_count": 8,
          "output_type": "execute_result",
          "data": {
            "text/plain": ""
          },
          "metadata": {}
        }
      ],
      "metadata": {},
      "source": [
        "from pyspark.ml.recommendation import ALS\n",
        "from pyspark.sql import Row"
      ]
    },
    {
      "cell_type": "code",
      "execution_count": 9,
      "outputs": [
        {
          "output_type": "display_data",
          "data": {
            "application/vnd.livy.statement-meta+json": {
              "spark_pool": "testspark",
              "session_id": 56,
              "statement_id": 11,
              "state": "finished",
              "livy_statement_state": "available",
              "queued_time": "2020-11-10T10:45:52.2538572Z",
              "execution_start_time": "2020-11-10T10:45:59.869178Z",
              "execution_finish_time": "2020-11-10T10:46:10.0108906Z"
            },
            "text/plain": "StatementMeta(testspark, 56, 11, Finished, Available)"
          },
          "metadata": {}
        },
        {
          "execution_count": 9,
          "output_type": "execute_result",
          "data": {
            "text/plain": ""
          },
          "metadata": {}
        }
      ],
      "metadata": {},
      "source": [
        "# To be able to complete this lab in under an hour, let's just work with 1,500k rows\n",
        "data_all = spark.sql(\"SELECT * FROM AdultCensusIncome4\").limit(15000000)\n",
        "#sample.createOrReplaceTempView(\"AdultCensusIncome\")\n",
        "\n",
        "columns_new = [col.replace(\"-\", \"\") for col in data_all.columns]\n",
        "data_all = data_all.toDF(*columns_new)"
      ]
    },
    {
      "cell_type": "code",
      "execution_count": 10,
      "outputs": [
        {
          "output_type": "display_data",
          "data": {
            "application/vnd.livy.statement-meta+json": {
              "spark_pool": "testspark",
              "session_id": 56,
              "statement_id": 12,
              "state": "finished",
              "livy_statement_state": "available",
              "queued_time": "2020-11-10T10:45:52.3510931Z",
              "execution_start_time": "2020-11-10T10:46:10.0328745Z",
              "execution_finish_time": "2020-11-10T10:46:12.0655414Z"
            },
            "text/plain": "StatementMeta(testspark, 56, 12, Finished, Available)"
          },
          "metadata": {}
        },
        {
          "execution_count": 10,
          "output_type": "execute_result",
          "data": {
            "text/plain": "root\n |-- age: integer (nullable = false)\n |-- workclass: string (nullable = false)\n |-- fnlwgt: integer (nullable = false)\n |-- education: string (nullable = false)\n |-- educationnum: integer (nullable = false)\n |-- maritalstatus: string (nullable = false)\n |-- occupation: string (nullable = false)\n |-- relationship: string (nullable = false)\n |-- race: string (nullable = false)\n |-- sex: string (nullable = false)\n |-- capitalgain: integer (nullable = false)\n |-- capitalloss: integer (nullable = false)\n |-- hoursperweek: integer (nullable = false)\n |-- nativecountry: string (nullable = false)\n |-- income: string (nullable = false)"
          },
          "metadata": {}
        }
      ],
      "metadata": {},
      "source": [
        "data_all.printSchema()"
      ]
    },
    {
      "cell_type": "code",
      "execution_count": 11,
      "outputs": [
        {
          "output_type": "display_data",
          "data": {
            "application/vnd.livy.statement-meta+json": {
              "spark_pool": "testspark",
              "session_id": 56,
              "statement_id": 13,
              "state": "finished",
              "livy_statement_state": "available",
              "queued_time": "2020-11-10T10:45:52.4468042Z",
              "execution_start_time": "2020-11-10T10:46:12.0855257Z",
              "execution_finish_time": "2020-11-10T10:46:56.7775595Z"
            },
            "text/plain": "StatementMeta(testspark, 56, 13, Finished, Available)"
          },
          "metadata": {}
        },
        {
          "output_type": "display_data",
          "data": {
            "application/vnd.synapse.widget-view+json": {
              "widget_id": "9b62157b-dcc0-4262-b768-25e5644cf848",
              "widget_type": "Synapse.DataFrame"
            },
            "text/plain": "SynapseWidget(Synapse.DataFrame, 9b62157b-dcc0-4262-b768-25e5644cf848)"
          },
          "metadata": {}
        },
        {
          "execution_count": 11,
          "output_type": "execute_result",
          "data": {},
          "metadata": {}
        }
      ],
      "metadata": {
        "collapsed": false,
        "diagram": {
          "activateDiagramType": 1,
          "chartConfig": {
            "category": "bar",
            "keys": [
              "workclass"
            ],
            "values": [
              "age"
            ],
            "yLabel": "age",
            "xLabel": "workclass",
            "aggregation": "SUM",
            "aggByBackend": false
          },
          "aggData": "\"\\\"{\\\\\\\"age\\\\\\\":{\\\\\\\" ?\\\\\\\":25,\\\\\\\" Private\\\\\\\":233,\\\\\\\" Self-emp-not-inc\\\\\\\":67,\\\\\\\" State-gov\\\\\\\":35}}\\\"\"",
          "isSummary": false,
          "previewData": {
            "filter": null
          },
          "isSql": false
        }
      },
      "source": [
        "display(data_all.limit(10))"
      ]
    },
    {
      "cell_type": "code",
      "execution_count": 12,
      "outputs": [
        {
          "output_type": "display_data",
          "data": {
            "application/vnd.livy.statement-meta+json": {
              "spark_pool": "testspark",
              "session_id": 56,
              "statement_id": 14,
              "state": "finished",
              "livy_statement_state": "available",
              "queued_time": "2020-11-10T10:45:52.535827Z",
              "execution_start_time": "2020-11-10T10:46:56.8203077Z",
              "execution_finish_time": "2020-11-10T10:47:06.9707779Z"
            },
            "text/plain": "StatementMeta(testspark, 56, 14, Finished, Available)"
          },
          "metadata": {}
        },
        {
          "execution_count": 12,
          "output_type": "execute_result",
          "data": {
            "text/plain": "SDK version: 1.10.0\nWorkspace name: blog-devaisec-amls\nAzure region: westeurope\nSubscription id: 513a7987-b0d9-4106-a24d-4b3f49136ea8\nResource group: blog-devaisec-rg"
          },
          "metadata": {}
        }
      ],
      "metadata": {},
      "source": [
        "import datetime\n",
        "import azureml.core\n",
        "from azureml.core import Workspace\n",
        "from azureml.core.run import Run\n",
        "from azureml.core.experiment import Experiment\n",
        "\n",
        "# Check core SDK version number\n",
        "print(\"SDK version:\", azureml.core.VERSION)\n",
        "\n",
        "workspace=\"<<your AzureML workspace>>\"\n",
        "subscription_id=\"<<your subscription>>\"\n",
        "resource_grp=\"<<your response group>>\"\n",
        "\n",
        "experiment_name = \"experiment_model_release_synapse\"\n",
        "model_name_run = datetime.datetime.now().strftime(\"%Y%m%d%H%M%S\")+ \"_dbrmod_synapse.mml\" # in case you want to change the name, keep the .mml extension\n",
        "model_name = \"databricksmodelsynapse.mml\" # in case you want to change the name, keep the .mml extension\n",
        "\n",
        "#\n",
        "# Step 1: Run notebook using Databricks Compute in AML SDK\n",
        "#\n",
        "\n",
        "ws = Workspace(workspace_name = workspace,\n",
        "               subscription_id = subscription_id,\n",
        "               resource_group = resource_grp)\n",
        "\n",
        "ws.get_details()\n",
        "\n",
        "print('Workspace name: ' + ws.name, \n",
        "      'Azure region: ' + ws.location, \n",
        "      'Subscription id: ' + ws.subscription_id, \n",
        "      'Resource group: ' + ws.resource_group, sep = '\\n')"
      ]
    },
    {
      "cell_type": "code",
      "execution_count": 13,
      "outputs": [
        {
          "output_type": "display_data",
          "data": {
            "application/vnd.livy.statement-meta+json": {
              "spark_pool": "testspark",
              "session_id": 56,
              "statement_id": 15,
              "state": "finished",
              "livy_statement_state": "available",
              "queued_time": "2020-11-10T10:45:52.585336Z",
              "execution_start_time": "2020-11-10T10:47:07.0041297Z",
              "execution_finish_time": "2020-11-10T10:47:49.6368488Z"
            },
            "text/plain": "StatementMeta(testspark, 56, 15, Finished, Available)"
          },
          "metadata": {}
        },
        {
          "execution_count": 13,
          "output_type": "execute_result",
          "data": {
            "text/plain": ""
          },
          "metadata": {}
        }
      ],
      "metadata": {},
      "source": [
        "import os\n",
        "import urllib\n",
        "import pprint\n",
        "import numpy as np\n",
        "import shutil\n",
        "import time\n",
        "\n",
        "from pyspark.ml import Pipeline, PipelineModel\n",
        "from pyspark.ml.feature import OneHotEncoder, OneHotEncoderEstimator, StringIndexer, VectorAssembler\n",
        "from pyspark.ml.classification import LogisticRegression, DecisionTreeClassifier\n",
        "from pyspark.ml.evaluation import BinaryClassificationEvaluator\n",
        "from pyspark.ml.tuning import CrossValidator, ParamGridBuilder\n",
        "\n",
        "categoricalColumns = [\"workclass\", \"education\", \"maritalstatus\", \"occupation\", \"relationship\", \"race\", \"sex\", \"nativecountry\"]\n",
        "stages = [] # stages in our Pipeline\n",
        "for categoricalCol in categoricalColumns:\n",
        "    # Category Indexing with StringIndexer\n",
        "    stringIndexer = StringIndexer(inputCol=categoricalCol, outputCol=categoricalCol + \"Index\")\n",
        "    # Use OneHotEncoder to convert categorical variables into binary SparseVectors\n",
        "    # encoder = OneHotEncoderEstimator(inputCol=categoricalCol + \"Index\", outputCol=categoricalCol + \"classVec\")\n",
        "    encoder = OneHotEncoderEstimator(inputCols=[stringIndexer.getOutputCol()], outputCols=[categoricalCol + \"classVec\"])\n",
        "    # Add stages.  These are not run here, but will run all at once later on.\n",
        "    stages += [stringIndexer, encoder]\n",
        "    \n",
        "    \n",
        "# Convert label into label indices using the StringIndexer\n",
        "label_stringIdx = StringIndexer(inputCol=\"income\", outputCol=\"label\")\n",
        "stages += [label_stringIdx]\n",
        "\n",
        "# Transform all features into a vector using VectorAssembler\n",
        "numericCols = [\"age\", \"fnlwgt\", \"educationnum\", \"capitalgain\", \"capitalloss\", \"hoursperweek\"]\n",
        "assemblerInputs = [c + \"classVec\" for c in categoricalColumns] + numericCols\n",
        "assembler = VectorAssembler(inputCols=assemblerInputs, outputCol=\"features\")\n",
        "stages += [assembler]\n",
        "\n",
        "partialPipeline = Pipeline().setStages(stages)\n",
        "pipelineModel = partialPipeline.fit(data_all)\n",
        "preppedDataDF = pipelineModel.transform(data_all)\n",
        "\n",
        "selectedcols = [\"label\", \"features\"] + [\"income\"] + categoricalColumns + numericCols\n",
        "dataset = preppedDataDF.select(selectedcols)\n",
        "\n",
        "(trainingData, testData) = dataset.randomSplit([0.7, 0.3], seed=122423)"
      ]
    },
    {
      "cell_type": "code",
      "execution_count": 14,
      "outputs": [
        {
          "output_type": "display_data",
          "data": {
            "application/vnd.livy.statement-meta+json": {
              "spark_pool": "testspark",
              "session_id": 56,
              "statement_id": 16,
              "state": "finished",
              "livy_statement_state": "available",
              "queued_time": "2020-11-10T10:45:52.6757997Z",
              "execution_start_time": "2020-11-10T10:47:49.6630353Z",
              "execution_finish_time": "2020-11-10T10:47:59.7846626Z"
            },
            "text/plain": "StatementMeta(testspark, 56, 16, Finished, Available)"
          },
          "metadata": {}
        },
        {
          "execution_count": 14,
          "output_type": "execute_result",
          "data": {
            "text/plain": ""
          },
          "metadata": {}
        }
      ],
      "metadata": {},
      "source": [
        "myexperiment = Experiment(ws, experiment_name)\n",
        "root_run = myexperiment.start_logging()"
      ]
    },
    {
      "cell_type": "code",
      "execution_count": 16,
      "outputs": [
        {
          "output_type": "display_data",
          "data": {
            "application/vnd.livy.statement-meta+json": {
              "spark_pool": "testspark",
              "session_id": 56,
              "statement_id": 18,
              "state": "finished",
              "livy_statement_state": "available",
              "queued_time": "2020-11-10T10:48:40.8932231Z",
              "execution_start_time": "2020-11-10T10:49:05.08173Z",
              "execution_finish_time": "2020-11-10T10:50:02.3933506Z"
            },
            "text/plain": "StatementMeta(testspark, 56, 18, Finished, Available)"
          },
          "metadata": {}
        },
        {
          "execution_count": 16,
          "output_type": "execute_result",
          "data": {
            "text/plain": "Regularization rate: 0\nArea under ROC: 0.9043354488998249\nArea Under PR: 0.761097345573136\nTP: 1416, FP: 500, TN: 6895, FN: 942"
          },
          "metadata": {}
        }
      ],
      "metadata": {},
      "source": [
        "import os\n",
        "\n",
        "from pyspark.ml.classification import LogisticRegression\n",
        "#regParam = [0,0.01, 0.5, 2.0]\n",
        "regParam = [0]\n",
        "# try a bunch of alpha values in a Linear Regression (Ridge) model\n",
        "for reg in regParam:\n",
        "    print(\"Regularization rate: {}\".format(reg))\n",
        "    # create a bunch of child runs\n",
        "    with root_run.child_run(\"reg-\" + str(reg)) as run:\n",
        "        # create a new Logistic Regression model.\n",
        "        \n",
        "        lr = LogisticRegression(regParam=reg)\n",
        "        \n",
        "        # put together the pipeline\n",
        "        pipe = Pipeline(stages=[lr])\n",
        "\n",
        "        # train the model\n",
        "        model_pipeline = pipe.fit(trainingData)\n",
        "        predictions = model_pipeline.transform(testData)\n",
        "\n",
        "        # evaluate. note only 2 metrics are supported out of the box by Spark ML.\n",
        "        bce = BinaryClassificationEvaluator(rawPredictionCol='rawPrediction')\n",
        "        au_roc = bce.setMetricName('areaUnderROC').evaluate(predictions)\n",
        "        au_prc = bce.setMetricName('areaUnderPR').evaluate(predictions)\n",
        "        truePositive = predictions.select(\"label\").filter(\"label = 1 and prediction = 1\").count()\n",
        "        falsePositive = predictions.select(\"label\").filter(\"label = 0 and prediction = 1\").count()\n",
        "        trueNegative = predictions.select(\"label\").filter(\"label = 0 and prediction = 0\").count()\n",
        "        falseNegative = predictions.select(\"label\").filter(\"label = 1 and prediction = 0\").count()\n",
        "\n",
        "        # log reg, au_roc, au_prc and feature names in run history\n",
        "        run.log(\"reg\", reg)\n",
        "        run.log(\"au_roc\", au_roc)\n",
        "        run.log(\"au_prc\", au_prc)\n",
        "        \n",
        "        print(\"Area under ROC: {}\".format(au_roc))\n",
        "        print(\"Area Under PR: {}\".format(au_prc))\n",
        "       \n",
        "        run.log(\"truePositive\", truePositive)\n",
        "        run.log(\"falsePositive\", falsePositive)\n",
        "        run.log(\"trueNegative\", trueNegative)\n",
        "        run.log(\"falseNegative\", falseNegative)\n",
        "                                                                                                                                                                  \n",
        "        print(\"TP: \" + str(truePositive) + \", FP: \" + str(falsePositive) + \", TN: \" + str(trueNegative) + \", FN: \" + str(falseNegative))                                                                         \n",
        "        \n",
        "        run.log_list(\"columns\", trainingData.columns)\n",
        "\n",
        "        # save model\n",
        "\n",
        "        #os.mkdir(\"deploymodel2\") \n",
        "        #os.chdir(\"deploymodel4\")\n",
        "        model_pipeline.write().overwrite().save(\"prod/\" + model_name)\n",
        "        \n",
        "        # Todo: upload the serialized model into AzureML, fix code below\n",
        "        #mdl, ext = model_name.split(\".\")\n",
        "        #shutil.make_archive(mdl, 'zip')\n",
        "\n",
        "        #model_zip = mdl + \".zip\"\n",
        "        #run.upload_file(\"outputs/\" + model_name, model_zip)        \n",
        "        #run.upload_file(\"outputs/\" + model_name, path_or_stream = model_dbfs) #cannot deal with folders\n",
        ""
      ]
    },
    {
      "cell_type": "code",
      "execution_count": null,
      "outputs": [],
      "metadata": {},
      "source": [
        ""
      ]
    }
  ]
}